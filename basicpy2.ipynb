{
  "nbformat": 4,
  "nbformat_minor": 0,
  "metadata": {
    "colab": {
      "provenance": [],
      "authorship_tag": "ABX9TyPwNEo59apn6rn6wQXpmvEk",
      "include_colab_link": true
    },
    "kernelspec": {
      "name": "python3",
      "display_name": "Python 3"
    },
    "language_info": {
      "name": "python"
    }
  },
  "cells": [
    {
      "cell_type": "markdown",
      "metadata": {
        "id": "view-in-github",
        "colab_type": "text"
      },
      "source": [
        "<a href=\"https://colab.research.google.com/github/RakeshMishra26mgh/Py1-2/blob/main/basicpy2.ipynb\" target=\"_parent\"><img src=\"https://colab.research.google.com/assets/colab-badge.svg\" alt=\"Open In Colab\"/></a>"
      ]
    },
    {
      "cell_type": "markdown",
      "source": [
        "Answer 1:-"
      ],
      "metadata": {
        "id": "d6RG_DnRLVDJ"
      }
    },
    {
      "cell_type": "code",
      "source": [
        "km=float(input(\"enter the distance to be converted in kilometer: \"))\n",
        "mile=km/(1.609344)\n",
        "print(f\"So the distance in miles is :{mile} \")"
      ],
      "metadata": {
        "id": "c3tg57tSLtf3"
      },
      "execution_count": null,
      "outputs": []
    },
    {
      "cell_type": "markdown",
      "source": [
        "Answer 2:-"
      ],
      "metadata": {
        "id": "4mvu7cDxM_fP"
      }
    },
    {
      "cell_type": "code",
      "source": [
        "cel=float(input(\"enter the temperature in celcius:\"))\n",
        "fahr=(cel*(9/5))+32\n",
        "print(f\"So the temperature in fahrenheit is {fahr}:\")"
      ],
      "metadata": {
        "id": "EyQj9vVYNDsV"
      },
      "execution_count": null,
      "outputs": []
    },
    {
      "cell_type": "markdown",
      "source": [
        "Answer 3:-"
      ],
      "metadata": {
        "id": "o-NxeCxFPAHH"
      }
    },
    {
      "cell_type": "code",
      "source": [
        "import calendar\n",
        "year=int(input(\"enter the year in yyyy format :\"))\n",
        "month=int(input(\"enter the month in mm format:\"))\n",
        "print(calendar.month(year,month))\n"
      ],
      "metadata": {
        "id": "FQ9Vcfp9PDGO"
      },
      "execution_count": null,
      "outputs": []
    },
    {
      "cell_type": "markdown",
      "source": [
        "Answer 4 :-"
      ],
      "metadata": {
        "id": "qtMvP14HRZgG"
      }
    },
    {
      "cell_type": "code",
      "source": [
        "import math\n",
        "a=int(input(\"enter a:\"))\n",
        "b=int(input(\"enter b:\"))\n",
        "c=int(input(\"enter c:\"))\n",
        "if a==0:\n",
        "  print('enter the coefficients correctly')\n",
        "else:\n",
        "  D=(b*b)-(4*a*c)\n",
        "  sqt=math.sqrt(D)\n",
        "  if D>0:\n",
        "    print(\"roots are real and different\")\n",
        "    print((-b+srt)/(2*a),\"is root1\") \n",
        "    print((-b-srt)/(2*a),\"is root2\")\n",
        "  elif D==0:\n",
        "    print(\"roots are real and equal\")\n",
        "    print(-b/(2*a),\"is the root\")\n",
        "  else:\n",
        "    print(\"complex roots exist\")\n",
        "    print(-b/(2*a),\"+i\",srt ,\"is root1\")\n",
        "    print(-b/(2*a),\"-i\",srt ,\"is root2\")    "
      ],
      "metadata": {
        "id": "B9S9Ku3CRckl"
      },
      "execution_count": null,
      "outputs": []
    },
    {
      "cell_type": "markdown",
      "source": [
        "Answer 5:-"
      ],
      "metadata": {
        "id": "2MRKERwqYAod"
      }
    },
    {
      "cell_type": "code",
      "source": [
        "x=str(input(\"enter the variable x:\"))\n",
        "y=str(input(\"enter the variable y:\"))\n",
        "x,y=y,x\n",
        "print(\"after swapping x=\",x,\"y=\",y)"
      ],
      "metadata": {
        "id": "0w97nPFOaxBr"
      },
      "execution_count": null,
      "outputs": []
    }
  ]
}